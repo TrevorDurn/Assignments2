{
 "cells": [
  {
   "cell_type": "markdown",
   "id": "b8a8d008-d463-4ea3-a43e-9ea95593594c",
   "metadata": {},
   "source": [
    "## 1"
   ]
  },
  {
   "cell_type": "code",
   "execution_count": 2,
   "id": "b30363e9-9ca4-4932-923d-412fb6e9a7c0",
   "metadata": {},
   "outputs": [],
   "source": [
    "# Create a list of the planets and return the length of the list.\n",
    "l = ['Mercury', 'Venus', 'Earth', 'Mars', 'Jupiter', 'Saturn', 'Uranus', 'Neptune']"
   ]
  },
  {
   "cell_type": "code",
   "execution_count": 9,
   "id": "fa54515b-3b89-497a-9eb0-1f8016c1df90",
   "metadata": {},
   "outputs": [
    {
     "data": {
      "text/plain": [
       "8"
      ]
     },
     "execution_count": 9,
     "metadata": {},
     "output_type": "execute_result"
    }
   ],
   "source": [
    "len(l)"
   ]
  },
  {
   "cell_type": "code",
   "execution_count": 12,
   "id": "523f43aa-2b92-40f8-8dd5-5b6bf7cd55a5",
   "metadata": {},
   "outputs": [
    {
     "name": "stdout",
     "output_type": "stream",
     "text": [
      "['Mercury', 'Venus', 'Earth', 'Mars']\n"
     ]
    }
   ],
   "source": [
    "# Print the first 4 values of the list\n",
    "print(l[0:4])"
   ]
  },
  {
   "cell_type": "code",
   "execution_count": 14,
   "id": "5556f96c-439f-4d15-abcd-ecb6c1a7cdb3",
   "metadata": {},
   "outputs": [
    {
     "name": "stdout",
     "output_type": "stream",
     "text": [
      "['Mercury', 'Venus', 'Earth', 'Mars', 'Jupiter', 'Saturn', 'Uranus', 'Neptune']\n"
     ]
    }
   ],
   "source": [
    "print(l)"
   ]
  },
  {
   "cell_type": "code",
   "execution_count": 17,
   "id": "7e6e562c-9b0a-46c5-9f69-b8c0c361da8b",
   "metadata": {},
   "outputs": [
    {
     "name": "stdout",
     "output_type": "stream",
     "text": [
      "Venus\n",
      "Mars\n",
      "Uranus\n"
     ]
    }
   ],
   "source": [
    "# Print the entries in the list that end in 's'\n",
    "for entry in l:\n",
    "    if entry.endswith(\"s\"):\n",
    "        print(entry)"
   ]
  },
  {
   "cell_type": "markdown",
   "id": "10ae9cf6-d3df-4556-a350-ab9c4e19596c",
   "metadata": {},
   "source": [
    "2"
   ]
  },
  {
   "cell_type": "code",
   "execution_count": 24,
   "id": "81f025cd-f667-4da6-bbcf-a48ea5f678b4",
   "metadata": {},
   "outputs": [
    {
     "data": {
      "text/plain": [
       "100.0"
      ]
     },
     "execution_count": 24,
     "metadata": {},
     "output_type": "execute_result"
    }
   ],
   "source": [
    "# A function that converts Kelvin to Celsius\n",
    "def temperatureConversionKtoC(temp):\n",
    "        temperature = temp - 273.15\n",
    "        return temperature\n",
    "temperatureConversionKtoC(373.15)"
   ]
  },
  {
   "cell_type": "code",
   "execution_count": 55,
   "id": "c369126b-053a-47e4-a5e2-0ba88ad017ef",
   "metadata": {},
   "outputs": [
    {
     "data": {
      "text/plain": [
       "703.67"
      ]
     },
     "execution_count": 55,
     "metadata": {},
     "output_type": "execute_result"
    }
   ],
   "source": [
    "# Convert either Celsius or Kelvin to Fahrenheit \n",
    "def tempConversiontoF(temp, celsius = False, kelvin = False):\n",
    "    if celsius:\n",
    "        temperature = temp * (1.8) + 32\n",
    "        return temperature\n",
    "    if kelvin:\n",
    "        temp2 = temperatureConversionKtoC(temp)\n",
    "        temperature = temp2 * (1.8) + 32\n",
    "        return temperature\n",
    "tempConversiontoF(373.15, True, False)"
   ]
  },
  {
   "cell_type": "code",
   "execution_count": 59,
   "id": "3028e8f8-5119-4847-bb5a-b338b181fcbc",
   "metadata": {},
   "outputs": [
    {
     "data": {
      "text/plain": [
       "462.82939999999996"
      ]
     },
     "execution_count": 59,
     "metadata": {},
     "output_type": "execute_result"
    }
   ],
   "source": [
    "# Convert Fahrenheit to Celsius or Kelvon\n",
    "def conversionfromF(temp, celsius = False, kelvin = False):\n",
    "    if celsius:\n",
    "        temperature1 = temp - 32\n",
    "        temperature = temperature1 * .556\n",
    "        return temperature\n",
    "    if kelvin:\n",
    "        temperature1 = temp - 32\n",
    "        temperature = temperature1 * .556 + 273.15\n",
    "        return temperature\n",
    "conversionfromF(373.15, False, True)"
   ]
  },
  {
   "cell_type": "markdown",
   "id": "14c3be16-f66b-4f78-aa19-7187b43895fd",
   "metadata": {},
   "source": [
    "2.5"
   ]
  },
  {
   "cell_type": "code",
   "execution_count": 83,
   "id": "b10c11be-2fe3-4e96-8f1d-83bb386169db",
   "metadata": {},
   "outputs": [
    {
     "data": {
      "text/plain": [
       "1.7018"
      ]
     },
     "execution_count": 83,
     "metadata": {},
     "output_type": "execute_result"
    }
   ],
   "source": [
    "# Convert Heights from Imperial to Metric\n",
    "def heightConversion_FItoM(feet, inches):\n",
    "    return (feet * .3048) + (inches * .0254)\n",
    "heightConversion_FItoM(5, 7)"
   ]
  },
  {
   "cell_type": "code",
   "execution_count": 71,
   "id": "c7cd0bd9-a515-4770-bf6d-4118a1f0c6d8",
   "metadata": {},
   "outputs": [
    {
     "data": {
      "text/plain": [
       "(5, 7.716535433070874)"
      ]
     },
     "execution_count": 71,
     "metadata": {},
     "output_type": "execute_result"
    }
   ],
   "source": [
    "# Convert Heights from Meters to Imperial\n",
    "def heightConversion_MtoFI(meters):\n",
    "    inches1 = (meters / .0254)\n",
    "    feet = int(inches1 // 12)\n",
    "    inches = (inches1 % 12) \n",
    "    return feet, inches\n",
    "heightConversion_MtoFI(1.72)"
   ]
  },
  {
   "cell_type": "code",
   "execution_count": 87,
   "id": "d157cf75-416f-4af4-8979-3bdea9cec53c",
   "metadata": {},
   "outputs": [
    {
     "name": "stdout",
     "output_type": "stream",
     "text": [
      "Height: 1.701800 meters -> consistent: True, converted back: 1.701800 meters\n",
      "Height: 1.828800 meters -> consistent: True, converted back: 1.828800 meters\n",
      "Height: 2.000000 meters -> consistent: True, converted back: 2.000000 meters\n"
     ]
    }
   ],
   "source": [
    "# Verify conversion's round trip \n",
    "\n",
    "def heightConversion_FItoM(feet, inches):\n",
    "    return (feet * 0.3048) + (inches * 0.0254)\n",
    "\n",
    "def heightConversion_MtoFI(meters):\n",
    "    inches_total = meters / 0.0254  \n",
    "    feet = int(inches_total // 12)  \n",
    "    inches = inches_total % 12      \n",
    "    return feet, inches\n",
    "\n",
    "def round_trip(heightM):\n",
    "    feet, inches = heightConversion_MtoFI(heightM)\n",
    "    \n",
    "    metersBack = heightConversion_FItoM(feet, inches)\n",
    "    \n",
    "    inLine = abs(heightM - metersBack) < 1e-6\n",
    "    return inLine, metersBack\n",
    "\n",
    "heightM = [1.7018, 1.8288, 2.0]\n",
    "\n",
    "for height in heightM:\n",
    "    is_inLine, converted_back = round_trip(height)\n",
    "    print(f\"Height: {height:.6f} meters -> consistent: {is_inLine}, converted back: {converted_back:.6f} meters\")"
   ]
  },
  {
   "cell_type": "code",
   "execution_count": null,
   "id": "a9f996ef-8f81-4a69-b146-a5920263b040",
   "metadata": {},
   "outputs": [],
   "source": []
  }
 ],
 "metadata": {
  "kernelspec": {
   "display_name": "pangeo23",
   "language": "python",
   "name": "pangeo23"
  },
  "language_info": {
   "codemirror_mode": {
    "name": "ipython",
    "version": 3
   },
   "file_extension": ".py",
   "mimetype": "text/x-python",
   "name": "python",
   "nbconvert_exporter": "python",
   "pygments_lexer": "ipython3",
   "version": "3.11.6"
  }
 },
 "nbformat": 4,
 "nbformat_minor": 5
}
